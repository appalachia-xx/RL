{
 "cells": [
  {
   "cell_type": "code",
   "execution_count": 42,
   "metadata": {},
   "outputs": [],
   "source": [
    "import numpy as np\n",
    "import sys,os\n",
    "curr_path = os.path.abspath('')\n",
    "parent_path = os.path.dirname(curr_path)\n",
    "sys.path.append(parent_path)\n",
    "from SimpleGrid import DrunkenWalkEnv"
   ]
  },
  {
   "cell_type": "code",
   "execution_count": 43,
   "metadata": {},
   "outputs": [],
   "source": [
    "def all_seed(env,seed = 1):\n",
    "    ## fixed random seed\n",
    "    import numpy as np\n",
    "    import random\n",
    "    import os\n",
    "    env.seed(seed) \n",
    "    np.random.seed(seed)\n",
    "    random.seed(seed)\n",
    "    os.environ['PYTHONHASHSEED'] = str(seed) "
   ]
  },
  {
   "cell_type": "code",
   "execution_count": 44,
   "metadata": {},
   "outputs": [],
   "source": [
    "env = DrunkenWalkEnv(map_name = \"walkInThePark\")\n",
    "all_seed(env, seed = 1) # random seed = 1"
   ]
  },
  {
   "cell_type": "markdown",
   "metadata": {},
   "source": [
    "Value iteration"
   ]
  },
  {
   "cell_type": "code",
   "execution_count": 45,
   "metadata": {},
   "outputs": [],
   "source": [
    "\n",
    "def value_iteration(env, theta=0.005, discount_factor=0.9):\n",
    "    Q = np.zeros((env.nS, env.nA)) # initilize Q table\n",
    "    count = 0\n",
    "    while True:\n",
    "        delta = 0.0\n",
    "        Q_tmp = np.zeros((env.nS, env.nA))\n",
    "        for state in range(env.nS):\n",
    "            for a in range(env.nA):\n",
    "                accum = 0.0\n",
    "                reward_total = 0.0\n",
    "                for prob, next_state, reward, done in env.P[state][a]:\n",
    "                    accum += prob* np.max(Q[next_state, :])\n",
    "                    reward_total += prob * reward\n",
    "                Q_tmp[state, a] = reward_total + discount_factor * accum\n",
    "                delta = max(delta, abs(Q_tmp[state, a] - Q[state, a]))\n",
    "        Q = Q_tmp\n",
    "        \n",
    "        count += 1\n",
    "        # Even if the algorithm does not converge, it exits the loop after 100 iterations\n",
    "        if delta < theta or count > 100: \n",
    "            break \n",
    "    return Q"
   ]
  },
  {
   "cell_type": "code",
   "execution_count": 46,
   "metadata": {},
   "outputs": [
    {
     "name": "stdout",
     "output_type": "stream",
     "text": [
      "[[3.26467823e+21 5.62729296e+21 5.77922877e+21 3.28638335e+21]\n",
      " [4.18843433e+21 1.11513194e+22 1.18912103e+22 6.44946206e+21]\n",
      " [8.67612526e+21 2.33922356e+22 2.45019482e+22 1.32817060e+22]\n",
      " [1.79833197e+22 4.90720763e+22 5.03581793e+22 2.72849895e+22]\n",
      " [3.71877755e+22 1.02732970e+23 1.03193762e+23 5.58855418e+22]\n",
      " [7.60768450e+22 2.09702086e+23 2.10795349e+23 1.14177647e+23]\n",
      " [1.56410759e+23 4.30646719e+23 3.85575043e+23 2.27500330e+23]\n",
      " [3.04932301e+23 7.67812539e+23 4.43646806e+23 3.77521058e+23]\n",
      " [6.22577683e+21 1.14691507e+22 1.11012751e+22 4.16672922e+21]\n",
      " [7.84736370e+21 2.32519074e+22 2.33197597e+22 8.00589197e+21]\n",
      " [1.61660114e+22 4.90075844e+22 4.90770639e+22 1.65928240e+22]\n",
      " [3.39842304e+22 1.03314869e+23 1.03095989e+23 3.44047343e+22]\n",
      " [7.14331565e+22 2.17063264e+23 2.11176496e+23 7.05494825e+22]\n",
      " [1.34864828e+23 4.42981419e+23 4.25882293e+23 1.32286125e+23]\n",
      " [3.06066437e+23 9.24423623e+23 8.29997764e+23 2.88227320e+23]\n",
      " [6.17388763e+23 1.71647286e+24 9.43248361e+23 4.51700791e+23]\n",
      " [1.27450860e+22 2.35288284e+22 2.32032305e+22 8.44584757e+21]\n",
      " [1.61337576e+22 4.85573241e+22 4.89488724e+22 1.61159671e+22]\n",
      " [3.38008048e+22 1.02830538e+23 1.03290747e+23 3.39117544e+22]\n",
      " [7.13804226e+22 2.17509797e+23 2.17854304e+23 7.14381441e+22]\n",
      " [1.50595490e+23 4.59316861e+23 4.58386637e+23 1.50183649e+23]\n",
      " [3.16836768e+23 9.65985539e+23 9.41237793e+23 3.07540846e+23]\n",
      " [6.61178652e+23 1.97701454e+24 1.84441971e+24 6.27580140e+23]\n",
      " [1.34448901e+24 3.84202537e+24 2.11177928e+24 1.00543359e+24]\n",
      " [2.58966593e+22 4.68104842e+22 4.81305336e+22 1.74096929e+22]\n",
      " [3.28650066e+22 9.79834095e+22 1.02173205e+23 3.37521279e+22]\n",
      " [7.00528620e+22 2.10470899e+23 2.16594211e+23 7.13217107e+22]\n",
      " [1.49037123e+23 4.50734103e+23 4.58363309e+23 1.50571368e+23]\n",
      " [3.16340207e+23 9.61797199e+23 9.68456585e+23 3.17627808e+23]\n",
      " [6.70288764e+23 2.04342720e+24 2.00160742e+24 6.63443120e+23]\n",
      " [1.27313179e+24 4.20442059e+24 3.97521020e+24 1.24580874e+24]\n",
      " [2.92135673e+24 8.61122255e+24 4.73437370e+24 2.23972613e+24]\n",
      " [4.97031014e+22 8.06076491e+22 9.49917361e+22 3.52328375e+22]\n",
      " [6.25088506e+22 1.72979128e+23 2.05072363e+23 6.96260715e+22]\n",
      " [1.36091732e+23 3.83938174e+23 4.41513127e+23 1.48379790e+23]\n",
      " [2.95949488e+23 8.52711984e+23 9.47443572e+23 3.15424620e+23]\n",
      " [6.37451949e+23 1.85375180e+24 2.02506444e+24 6.69335212e+23]\n",
      " [1.38139446e+24 4.12099488e+24 4.32023794e+24 1.41633319e+24]\n",
      " [2.98764231e+24 9.16835181e+24 9.16239571e+24 2.94594961e+24]\n",
      " [6.44774822e+24 1.93288759e+25 1.06279231e+25 5.00828890e+24]\n",
      " [7.82085059e+22 9.14969571e+22 1.58420626e+23 6.54014678e+22]\n",
      " [9.38961002e+22 1.94119033e+23 3.53387872e+23 1.33100059e+23]\n",
      " [2.08677536e+23 4.33574701e+23 7.89153192e+23 2.90550952e+23]\n",
      " [5.06134158e+23 9.07330161e+23 1.76431854e+24 5.71256927e+23]\n",
      " [1.02786300e+24 2.11675488e+24 3.84735370e+24 1.36704083e+24]\n",
      " [2.24819729e+24 4.73723099e+24 8.61750156e+24 2.96927955e+24]\n",
      " [5.01087217e+24 1.06282460e+25 1.93288759e+25 6.44807112e+24]\n",
      " [3.35082944e+25 4.34194962e+25 4.34194962e+25 3.35082944e+25]]\n"
     ]
    }
   ],
   "source": [
    "Q = value_iteration(env)\n",
    "print(Q)"
   ]
  },
  {
   "cell_type": "code",
   "execution_count": 47,
   "metadata": {},
   "outputs": [
    {
     "name": "stdout",
     "output_type": "stream",
     "text": [
      "[2, 2, 2, 2, 2, 2, 1, 1, 1, 2, 2, 1, 1, 1, 1, 1, 1, 2, 2, 2, 1, 1, 1, 1, 2, 2, 2, 2, 2, 1, 1, 1, 2, 2, 2, 2, 2, 2, 1, 1, 2, 2, 2, 2, 2, 2, 2, 1]\n"
     ]
    }
   ],
   "source": [
    "policy = np.zeros([env.nS, env.nA]) # initialize a policy table\n",
    "for state in range(env.nS):\n",
    "    best_action = np.argmax(Q[state, :]) # select policy according Q table given by value iternation\n",
    "    policy[state, best_action] = 1\n",
    "\n",
    "policy = [int(np.argwhere(policy[i]==1)) for i in range(env.nS) ]\n",
    "print(policy)"
   ]
  },
  {
   "cell_type": "markdown",
   "metadata": {},
   "source": [
    "test?"
   ]
  },
  {
   "cell_type": "code",
   "execution_count": 48,
   "metadata": {},
   "outputs": [],
   "source": [
    "num_episode = 1000 # test 1000 times\n",
    "def test(env,policy):\n",
    "    \n",
    "    rewards = []  # rewards for all rounds\n",
    "    success = []  # whether the round is successful to the end\n",
    "    for i_ep in range(num_episode):\n",
    "        ep_reward = 0  # the reward for each episode\n",
    "        state = env.reset()  # reset environment -> restart a new episode, state=0\n",
    "        while True:\n",
    "            action = policy[state]  # choose an action\n",
    "            next_state, reward, done, _ = env.step(action)  # interact with the environment\n",
    "            state = next_state  # update state\n",
    "            ep_reward += reward\n",
    "            if done:\n",
    "                break\n",
    "        if state==47: # reach the end\n",
    "            success.append(1)\n",
    "        else:\n",
    "            success.append(0)\n",
    "        rewards.append(ep_reward)\n",
    "    acc_suc = np.array(success).sum()/num_episode\n",
    "    print(\"The successful rate of the test：\", acc_suc)\n",
    "    "
   ]
  },
  {
   "cell_type": "code",
   "execution_count": 49,
   "metadata": {},
   "outputs": [
    {
     "name": "stdout",
     "output_type": "stream",
     "text": [
      "The successful rate of the test： 0.901\n"
     ]
    }
   ],
   "source": [
    "test(env,policy)"
   ]
  }
 ],
 "metadata": {
  "kernelspec": {
   "display_name": "base",
   "language": "python",
   "name": "python3"
  },
  "language_info": {
   "codemirror_mode": {
    "name": "ipython",
    "version": 3
   },
   "file_extension": ".py",
   "mimetype": "text/x-python",
   "name": "python",
   "nbconvert_exporter": "python",
   "pygments_lexer": "ipython3",
   "version": "3.11.5"
  }
 },
 "nbformat": 4,
 "nbformat_minor": 2
}
